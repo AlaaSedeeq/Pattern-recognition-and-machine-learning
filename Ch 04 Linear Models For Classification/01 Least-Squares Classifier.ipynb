{
 "cells": [
  {
   "cell_type": "markdown",
   "id": "b41b5f8a",
   "metadata": {},
   "source": [
    "# Least Squares Classifier\n",
    "\n",
    "- $y(x) = \\tilde{W}^T\\tilde{X}$\n",
    "\n",
    "- $E_D(\\tilde{w}) = \\frac{1}{2} \\mathrm{Tr}\\{(\\tilde{W}^T\\tilde{X} - T)^T(\\tilde{W}^T\\tilde{X} - T)\\}$.\n",
    "- $\\tilde{W} = (X^TX)^{-1}X^TT = X^{+}T$\n",
    "\n",
    "\n",
    "Where the target $T$ in encoded using the 1-of-k coding scheme, and has shape of $N x K$.<br>\n",
    "$T =\n",
    "\\begin{bmatrix} \n",
    "t_1^T & ... & t_N^T \\\\\n",
    "\\end{bmatrix}^T$, $t_n$ is a vector with all zeros value,except for the class index."
   ]
  },
  {
   "cell_type": "code",
   "execution_count": 1,
   "id": "831128fb",
   "metadata": {},
   "outputs": [],
   "source": [
    "import numpy as np\n",
    "import matplotlib.pyplot as plt\n",
    "import seaborn as sns\n",
    "import seaborn as sns\n",
    "from sklearn.datasets import make_blobs\n",
    "from sklearn.model_selection import train_test_split\n",
    "%matplotlib inline"
   ]
  },
  {
   "cell_type": "code",
   "execution_count": 2,
   "id": "2487b303",
   "metadata": {},
   "outputs": [],
   "source": [
    "X, y = make_blobs(n_samples=100, centers=2, n_features=2, cluster_std=3)"
   ]
  },
  {
   "cell_type": "code",
   "execution_count": 3,
   "id": "1f3de50b",
   "metadata": {},
   "outputs": [
    {
     "data": {
      "image/png": "[encoded data removed]",
      "text/plain": [
       "<Figure size 720x360 with 1 Axes>"
      ]
     },
     "metadata": {
      "needs_background": "light"
     },
     "output_type": "display_data"
    }
   ],
   "source": [
    "plt.figure(figsize=(10, 5))\n",
    "sns.scatterplot(x=X[:, 0], y=X[:, 1], hue=y);"
   ]
  },
  {
   "cell_type": "markdown",
   "id": "3ba90133",
   "metadata": {},
   "source": [
    "### Plot the Decision Region"
   ]
  },
  {
   "cell_type": "code",
   "execution_count": 4,
   "id": "bcedd046",
   "metadata": {},
   "outputs": [],
   "source": [
    "def plot_decision_region(X, model, ax=None, title=''):\n",
    "\n",
    "    # define bounds of the domain\n",
    "    min1, max1 = X[:, 0].min()-1, X[:, 0].max()+1\n",
    "    min2, max2 = X[:, 1].min()-1, X[:, 1].max()+1\n",
    "    # define the x and y scale\n",
    "    x1grid = np.arange(min1, max1, 0.01)\n",
    "    x2grid = np.arange(min2, max2, 0.01)\n",
    "    # create all of the lines and rows of the grid\n",
    "    xx, yy = np.meshgrid(x1grid, x2grid)\n",
    "    # flatten each grid to a vector\n",
    "    r1, r2 = xx.flatten(), yy.flatten()\n",
    "    r1, r2 = r1.reshape((len(r1), 1)), r2.reshape((len(r2), 1))\n",
    "    # horizontal stack vectors to create x1,x2 input for the model\n",
    "    grid = np.hstack((r1,r2))\n",
    "    # make predictions for the grid\n",
    "    yhat = model.predict(grid)\n",
    "    # reshape the predictions back into a grid\n",
    "    zz = yhat.reshape(xx.shape) \n",
    "    # plot the grid of x, y and z values as a surface\n",
    "    if ax:\n",
    "        ax.contourf(xx, yy, zz, cmap='crest')\n",
    "        ax.set_title(title)\n",
    "    else:\n",
    "        plt.figure(figsize=(10, 5))\n",
    "        plt.title(title)\n",
    "        plt.contourf(xx, yy, zz, cmap='crest')\n",
    "    # create scatter plot for samples from each class\n",
    "    for class_value in range(2):\n",
    "        # get row indexes for samples with this class\n",
    "        row_ix = np.where(y == class_value)\n",
    "        # create scatter of these samples\n",
    "        if ax:\n",
    "            ax.scatter(X[row_ix, 0], X[row_ix, 1], cmap='Paired')\n",
    "        else:\n",
    "            plt.scatter(X[row_ix, 0], X[row_ix, 1], cmap='Paired')\n",
    "            \n",
    "    if ax: return ax\n",
    "    plt.show()"
   ]
  },
  {
   "cell_type": "markdown",
   "id": "89b3a608",
   "metadata": {},
   "source": [
    "### Least Squares Classifier"
   ]
  },
  {
   "cell_type": "code",
   "execution_count": 5,
   "id": "bcbe7965",
   "metadata": {},
   "outputs": [],
   "source": [
    "class Least_Squares_Classifier:\n",
    "    \n",
    "    def __init__(self, basis=None, scale=True, degree=None, b_mu=None, b_s=None):\n",
    "        self.basis = basis\n",
    "        self.scale = scale\n",
    "        self.degree = degree\n",
    "        self.b_mu = b_mu\n",
    "        self.b_s = b_s\n",
    "\n",
    "    def one_of_K_coding(self, y):\n",
    "        ys = len(np.unique(y))\n",
    "        N = len(y)\n",
    "        y_encoded = np.zeros((N, ys))\n",
    "        for i in range(N):\n",
    "            y_encoded[i][y[i]] = 1\n",
    "        return y_encoded\n",
    "    \n",
    "    def _scale_fit(self, X, L=-1, H=1):\n",
    "        P = X.shape[1]\n",
    "        self.a = []; self.b = []\n",
    "        for p in range(P):\n",
    "            self.a.append(((H * min(X[:, p])) - (L * max(X[:, p])))/(H-L))\n",
    "            self.b.append((max(X[:, p]) - min(X[:, p]))/(H - L))\n",
    "\n",
    "    def _scale_transform(self, X):\n",
    "        X_scaled = (X - self.a)/self.b\n",
    "        return X_scaled.reshape(X.shape[0], -1)\n",
    "    \n",
    "    def _scale_inverse(X):\n",
    "        return (X * self.b) + self.a\n",
    "    \n",
    "    def fit(self, X:np.ndarray, y:np.ndarray):\n",
    "        \n",
    "        if self.scale:\n",
    "            self._scale_fit(X)\n",
    "            X = self._scale_transform(X)\n",
    "        \n",
    "        X = np.append(X, np.ones((X.shape[0], 1)), axis=1)\n",
    "        \n",
    "        y = y.reshape(-1, 1)\n",
    "        self.y = self.one_of_K_coding(y)\n",
    "        \n",
    "        self.w = np.linalg.pinv(X).dot( self.y)\n",
    "\n",
    "    def predict(self, X:np.ndarray):\n",
    "        if self.scale:\n",
    "            X = self._scale_transform(X)\n",
    "        X = np.append(X, np.ones((X.shape[0], 1)), axis=1)\n",
    "        return np.argmax(X.dot(self.w), axis=-1)"
   ]
  },
  {
   "cell_type": "code",
   "execution_count": 6,
   "id": "ac111c36",
   "metadata": {},
   "outputs": [],
   "source": [
    "model = Least_Squares_Classifier()\n",
    "model.fit(X, y)"
   ]
  },
  {
   "cell_type": "code",
   "execution_count": 8,
   "id": "a497a50f",
   "metadata": {},
   "outputs": [
    {
     "data": {
      "image/png": "[encoded data removed]",
      "text/plain": [
       "<Figure size 720x360 with 1 Axes>"
      ]
     },
     "metadata": {
      "needs_background": "light"
     },
     "output_type": "display_data"
    }
   ],
   "source": [
    "plot_decision_region(X, model, None, 'Least Squares DB')"
   ]
  },
  {
   "cell_type": "markdown",
   "id": "5824ca39",
   "metadata": {},
   "source": [
    "> #### The 1-of-k coding scheme for 6 classes"
   ]
  },
  {
   "cell_type": "code",
   "execution_count": 9,
   "id": "0c5f1b78",
   "metadata": {},
   "outputs": [
    {
     "data": {
      "text/plain": [
       "array([[1., 0., 0., 0., 0., 0.],\n",
       "       [0., 1., 0., 0., 0., 0.],\n",
       "       [0., 1., 0., 0., 0., 0.],\n",
       "       [0., 0., 0., 0., 0., 1.],\n",
       "       [0., 0., 0., 0., 1., 0.],\n",
       "       [0., 0., 1., 0., 0., 0.],\n",
       "       [0., 0., 0., 1., 0., 0.],\n",
       "       [1., 0., 0., 0., 0., 0.]])"
      ]
     },
     "execution_count": 9,
     "metadata": {},
     "output_type": "execute_result"
    }
   ],
   "source": [
    "model.one_of_K_coding([0, 1, 1, 5, 4, 2, 3, 0])"
   ]
  }
 ],
 "metadata": {
  "kernelspec": {
   "display_name": "Python 3",
   "language": "python",
   "name": "python3"
  },
  "language_info": {
   "codemirror_mode": {
    "name": "ipython",
    "version": 3
   },
   "file_extension": ".py",
   "mimetype": "text/x-python",
   "name": "python",
   "nbconvert_exporter": "python",
   "pygments_lexer": "ipython3",
   "version": "3.8.8"
  }
 },
 "nbformat": 4,
 "nbformat_minor": 5
}
